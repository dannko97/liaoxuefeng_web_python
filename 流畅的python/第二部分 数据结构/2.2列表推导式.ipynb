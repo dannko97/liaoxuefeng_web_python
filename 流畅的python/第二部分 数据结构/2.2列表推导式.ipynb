{
 "cells": [
  {
   "cell_type": "code",
   "execution_count": 4,
   "id": "65faaf4d-e89d-495c-a055-f7e62071e165",
   "metadata": {},
   "outputs": [
    {
     "data": {
      "text/plain": [
       "[36, 162, 163, 165, 8364, 164]"
      ]
     },
     "execution_count": 4,
     "metadata": {},
     "output_type": "execute_result"
    }
   ],
   "source": [
    "symbols = '$¢£¥€¤'\n",
    "codes = []\n",
    "for symbol in symbols:\n",
    "    codes.append(ord(symbol))\n",
    "codes"
   ]
  },
  {
   "cell_type": "code",
   "execution_count": 6,
   "id": "e09d1bef-5fa3-4f06-94e2-6ebeb96af004",
   "metadata": {},
   "outputs": [
    {
     "data": {
      "text/plain": [
       "[36, 162, 163, 165, 8364, 164]"
      ]
     },
     "execution_count": 6,
     "metadata": {},
     "output_type": "execute_result"
    }
   ],
   "source": [
    "codes = [ord(symbol) for symbol in symbols]\n",
    "codes"
   ]
  },
  {
   "cell_type": "markdown",
   "id": "55685c38-120a-4f7d-ac49-f000144f111a",
   "metadata": {},
   "source": [
    "### 列表推导式同filter和map的比较"
   ]
  },
  {
   "cell_type": "code",
   "execution_count": 8,
   "id": "5acbfe36-83fa-4723-96a3-512cc60b1298",
   "metadata": {},
   "outputs": [
    {
     "data": {
      "text/plain": [
       "[162, 163, 165, 8364, 164]"
      ]
     },
     "execution_count": 8,
     "metadata": {},
     "output_type": "execute_result"
    }
   ],
   "source": [
    "beyond = list(filter(lambda c: c>127, map(ord, symbols)))\n",
    "beyond"
   ]
  },
  {
   "cell_type": "code",
   "execution_count": 11,
   "id": "a19cf883-ec21-48b2-9fbc-900882d34ec1",
   "metadata": {},
   "outputs": [
    {
     "data": {
      "text/plain": [
       "[162, 163, 165, 8364, 164]"
      ]
     },
     "execution_count": 11,
     "metadata": {},
     "output_type": "execute_result"
    }
   ],
   "source": [
    "beyond = [ord(s) for s in symbols if ord(s) >127]\n",
    "beyond"
   ]
  },
  {
   "cell_type": "markdown",
   "id": "a8a12207-11eb-4b30-a843-4fa202a389b1",
   "metadata": {},
   "source": [
    "Python 会忽略代码里 []、{} 和 () 中的换行，因此如果你的代码里\n",
    "有多行的列表、列表推导、生成器表达式、字典这一类的，可以省\n",
    "略不太好看的续行符 \\"
   ]
  },
  {
   "cell_type": "markdown",
   "id": "d90f1cec-0253-4ad1-b72d-1e00c01094e7",
   "metadata": {},
   "source": [
    "### 笛卡尔积"
   ]
  },
  {
   "cell_type": "code",
   "execution_count": 13,
   "id": "fc982b44-3352-4a5c-915a-14f6a12c8c31",
   "metadata": {},
   "outputs": [
    {
     "data": {
      "text/plain": [
       "[('black', 'S'),\n",
       " ('black', 'M'),\n",
       " ('black', 'L'),\n",
       " ('white', 'S'),\n",
       " ('white', 'M'),\n",
       " ('white', 'L')]"
      ]
     },
     "execution_count": 13,
     "metadata": {},
     "output_type": "execute_result"
    }
   ],
   "source": [
    "colors = ['black', 'white']\n",
    "sizes = ['S', 'M', 'L']\n",
    "tshirts = [(color, size) for color in colors for size in sizes]\n",
    "tshirts"
   ]
  },
  {
   "cell_type": "code",
   "execution_count": 15,
   "id": "a7d65162-80a4-450f-a1a7-3c780c2922df",
   "metadata": {},
   "outputs": [
    {
     "name": "stdout",
     "output_type": "stream",
     "text": [
      "('black', 'S')\n",
      "('black', 'M')\n",
      "('black', 'L')\n",
      "('white', 'S')\n",
      "('white', 'M')\n",
      "('white', 'L')\n"
     ]
    }
   ],
   "source": [
    "for color in colors:\n",
    "    for size in sizes:\n",
    "        print((color, size))"
   ]
  },
  {
   "cell_type": "code",
   "execution_count": null,
   "id": "5e4121a7-9a2b-42f9-bbd6-87d4f363adfd",
   "metadata": {},
   "outputs": [],
   "source": []
  }
 ],
 "metadata": {
  "kernelspec": {
   "display_name": "Python 3 (ipykernel)",
   "language": "python",
   "name": "python3"
  },
  "language_info": {
   "codemirror_mode": {
    "name": "ipython",
    "version": 3
   },
   "file_extension": ".py",
   "mimetype": "text/x-python",
   "name": "python",
   "nbconvert_exporter": "python",
   "pygments_lexer": "ipython3",
   "version": "3.7.9"
  }
 },
 "nbformat": 4,
 "nbformat_minor": 5
}
