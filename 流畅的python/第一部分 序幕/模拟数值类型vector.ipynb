{
 "cells": [
  {
   "cell_type": "markdown",
   "id": "f61a2e83-6e85-4d62-a757-c2a962596a3e",
   "metadata": {},
   "source": [
    "## 方法__repr__"
   ]
  },
  {
   "cell_type": "markdown",
   "id": "616e6ba4-ed01-43e2-9591-e6e2805d167c",
   "metadata": {},
   "source": [
    "Python 有一个内置的函数叫 repr，它能把一个对象用字符串的形式表达出来以便辨认，这就是“字符串表示形式”。repr 就是通过 __repr__这个特殊方法来得到一个对象的字符串表示形式的。如果没有实现__repr__，当我们在控制台里打印一个向量的实例时，得到的字符串可能会是 <Vector object at 0x10e100070>。"
   ]
  },
  {
   "cell_type": "markdown",
   "id": "677675b7-8c6b-4045-a467-905dd47e3ea8",
   "metadata": {},
   "source": [
    "__repr__ 和 __str__ 的区别在于，后者是在 str() 函数被使用，或是在用 print 函数打印一个对象的时候才被调用的，并且它返回的字符串对终端用户更友好。"
   ]
  },
  {
   "cell_type": "markdown",
   "id": "a6923d96-0230-41a8-b309-3d5bdc08d2ab",
   "metadata": {},
   "source": [
    "Python 对象的一个基本要求就是它得有合理的字符串表示形式，我们可\n",
    "以通过 __repr__ 和 __str__ 来满足这个要求。前者方便我们调试和\n",
    "记录日志，后者则是给终端用户看的。这就是数据模型中存在特殊方法\n",
    "__repr__ 和 __str__ 的原因。"
   ]
  },
  {
   "cell_type": "markdown",
   "id": "f582fc27-6dc6-4c1d-bf1e-52e0f6d935e7",
   "metadata": {},
   "source": [
    "如果你只想实现这两个特殊方法中的一个，__repr__ 是更好的选择，因为如果一个对象没有 __str__ 函数，而 Python 又需要调用它的时候，解释器会用 __repr__ 作为替代。"
   ]
  },
  {
   "cell_type": "code",
   "execution_count": 8,
   "id": "799d9a91-145b-4554-8cea-9890fa24ba17",
   "metadata": {},
   "outputs": [],
   "source": [
    "class Vector():\n",
    "    def __init__(self, x=0, y=0):\n",
    "        self.x = x\n",
    "        self.y = y\n",
    "    def __repr__(self):\n",
    "        return f\"Vector({self.x}, {self.y})\" "
   ]
  },
  {
   "cell_type": "code",
   "execution_count": 9,
   "id": "f1d3b768-baa6-4519-9a2c-c858a5f8e753",
   "metadata": {},
   "outputs": [
    {
     "data": {
      "text/plain": [
       "Vector(5, 3)"
      ]
     },
     "execution_count": 9,
     "metadata": {},
     "output_type": "execute_result"
    }
   ],
   "source": [
    "Vector(5, 3)"
   ]
  },
  {
   "cell_type": "markdown",
   "id": "e461e499-0ff5-4693-845c-39efeb11568a",
   "metadata": {},
   "source": [
    "## 自定义的布尔值__bool__"
   ]
  },
  {
   "cell_type": "markdown",
   "id": "eaa2d4b7-db7e-4966-9c09-f4d162a8c4a5",
   "metadata": {},
   "source": [
    "默认情况下，我们自己定义的类的实例总被认为是真的，除非这个类对\n",
    "__bool__ 或者 __len__ 函数有自己的实现。bool(x) 的背后是调用\n",
    "x.__bool__() 的结果；如果不存在 __bool__ 方法，那么 bool(x) 会\n",
    "尝试调用 x.__len__()。若返回 0，则 bool 会返回 False；否则返回\n",
    "True。"
   ]
  },
  {
   "cell_type": "markdown",
   "id": "0ae0f769-58a5-485c-807b-c45a984ebb25",
   "metadata": {},
   "source": [
    "我们对 __bool__ 的实现很简单，如果一个向量的模是 0，那么就返回\n",
    "False，其他情况则返回 True。因为 __bool__ 函数的返回类型应该是\n",
    "布尔型，所以我们通过 bool(abs(self)) 把模值变成了布尔值。"
   ]
  },
  {
   "cell_type": "code",
   "execution_count": 10,
   "id": "d76b5fd0-8f9b-4708-9810-b96dd6807758",
   "metadata": {},
   "outputs": [],
   "source": [
    "class Vector():\n",
    "    def __init__(self, x=0, y=0):\n",
    "        self.x = x\n",
    "        self.y = y\n",
    "    def __bool__(self):\n",
    "        return bool(self.x or self.y)"
   ]
  },
  {
   "cell_type": "code",
   "execution_count": 11,
   "id": "d3ccb05d-1137-48e0-98b8-2da6e803ffb9",
   "metadata": {},
   "outputs": [
    {
     "data": {
      "text/plain": [
       "True"
      ]
     },
     "execution_count": 11,
     "metadata": {},
     "output_type": "execute_result"
    }
   ],
   "source": [
    "bool(Vector(5, 4))"
   ]
  },
  {
   "cell_type": "code",
   "execution_count": 12,
   "id": "1d7ce678-aa62-443b-8540-7d5f49a9a86c",
   "metadata": {},
   "outputs": [
    {
     "data": {
      "text/plain": [
       "False"
      ]
     },
     "execution_count": 12,
     "metadata": {},
     "output_type": "execute_result"
    }
   ],
   "source": [
    "bool(Vector(0, 0))"
   ]
  },
  {
   "cell_type": "markdown",
   "id": "65584be0-7766-48a9-acfd-8df3963e0d4c",
   "metadata": {},
   "source": [
    "Python 语言参考手册中的“Data\n",
    "Model”（https://docs.python.org/3/reference/datamodel.html）一章列出了\n",
    "83 个特殊方法的名字，其中 47 个用于实现算术运算、位运算和比较操作。"
   ]
  },
  {
   "cell_type": "markdown",
   "id": "d1fc0a3c-4be5-41eb-b55c-807b96c15fae",
   "metadata": {},
   "source": [
    "## 一个简单的二维向量类 "
   ]
  },
  {
   "cell_type": "code",
   "execution_count": 14,
   "id": "bfe40c5d-e543-43bd-98b4-af8206a65e0b",
   "metadata": {},
   "outputs": [],
   "source": [
    "from math import hypot\n",
    "class Vector():\n",
    "    def __init__(self, x=0, y=0):\n",
    "        self.x = x\n",
    "        self.y = y\n",
    "    \n",
    "    def __repr__(self):\n",
    "        return f\"Vector({self.x}, {self.y})\"\n",
    "    \n",
    "    def __bool__(self):\n",
    "        return bool(self.x or self.y)\n",
    "    \n",
    "    def __add__(self, other):\n",
    "        return Vector(self.x+other.x, self.y+other.y)\n",
    "    \n",
    "    def __abs__(self):\n",
    "        return hypot(self.x, self.y)\n",
    "    \n",
    "    def __mul__(self, scalar):\n",
    "        return Vector(self.x*scalar, self.y*scalar)"
   ]
  },
  {
   "cell_type": "code",
   "execution_count": 15,
   "id": "0257ea68-82c3-4238-a401-9c9d4353afd6",
   "metadata": {},
   "outputs": [
    {
     "data": {
      "text/plain": [
       "Vector(25, 20)"
      ]
     },
     "execution_count": 15,
     "metadata": {},
     "output_type": "execute_result"
    }
   ],
   "source": [
    "v1 = Vector(5, 4)\n",
    "v1*5"
   ]
  },
  {
   "cell_type": "code",
   "execution_count": 17,
   "id": "b21bc72e-745a-4a18-a4ab-ce9cfe147701",
   "metadata": {},
   "outputs": [
    {
     "data": {
      "text/plain": [
       "Vector(7, 14)"
      ]
     },
     "execution_count": 17,
     "metadata": {},
     "output_type": "execute_result"
    }
   ],
   "source": [
    "v2 = Vector(2, 10)\n",
    "v1+v2"
   ]
  },
  {
   "cell_type": "markdown",
   "id": "f8c70ecf-9517-41e0-9c6f-147181fea8f9",
   "metadata": {},
   "source": [
    "## 为什么len不是普通方法?"
   ]
  },
  {
   "cell_type": "markdown",
   "id": "1833bde1-e731-4abb-85e2-5b1c16a603d3",
   "metadata": {},
   "source": [
    "我在 2013 年问核心开发者 Raymond Hettinger 这个问题时，他用“Python之禅”\n",
    "（https://www.python.org/doc/humor/#the-zen-of-python）里的原话回\n",
    "答了我：“实用胜于纯粹。”在 1.2 节里我提到过，如果 x 是一个内置类\n",
    "型的实例，那么 len(x) 的速度会非常快。背后的原因是 CPython 会直\n",
    "接从一个 C 结构体里读取对象的长度，完全不会调用任何方法。获取一\n",
    "个集合中元素的数量是一个很常见的操作，在\n",
    "str、list、memoryview 等类型上，这个操作必须高效。\n",
    "换句话说，len 之所以不是一个普通方法，是为了让 Python 自带的数据\n",
    "结构可以走后门，abs 也是同理。但是多亏了它是特殊方法，我们也可\n",
    "以把 len 用于自定义数据类型。这种处理方式在保持内置类型的效率和\n",
    "保证语言的一致性之间找到了一个平衡点，也印证了“Python 之禅”中的\n",
    "另外一句话：“不能让特例特殊到开始破坏既定规则。”\n"
   ]
  },
  {
   "cell_type": "code",
   "execution_count": null,
   "id": "1378a060-5e0a-4953-8640-3b1b59504054",
   "metadata": {},
   "outputs": [],
   "source": []
  }
 ],
 "metadata": {
  "kernelspec": {
   "display_name": "Python 3 (ipykernel)",
   "language": "python",
   "name": "python3"
  },
  "language_info": {
   "codemirror_mode": {
    "name": "ipython",
    "version": 3
   },
   "file_extension": ".py",
   "mimetype": "text/x-python",
   "name": "python",
   "nbconvert_exporter": "python",
   "pygments_lexer": "ipython3",
   "version": "3.7.9"
  }
 },
 "nbformat": 4,
 "nbformat_minor": 5
}
