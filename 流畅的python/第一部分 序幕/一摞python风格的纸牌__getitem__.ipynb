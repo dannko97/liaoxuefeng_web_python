{
 "cells": [
  {
   "cell_type": "code",
   "execution_count": 31,
   "id": "138d09fc-0fc2-4a58-8243-a911697bc1b5",
   "metadata": {},
   "outputs": [],
   "source": [
    "import collections"
   ]
  },
  {
   "cell_type": "markdown",
   "id": "5af47294-423c-4b50-afd7-e9f65a00a427",
   "metadata": {},
   "source": [
    "# 一摞Python风格的纸牌"
   ]
  },
  {
   "cell_type": "markdown",
   "id": "3f28a58d-8886-4897-b01b-25b81a8e290d",
   "metadata": {},
   "source": [
    "### 实现__getitem__和__len__两个特殊方法"
   ]
  },
  {
   "cell_type": "code",
   "execution_count": 32,
   "id": "a1d4772f-8fc5-489a-8cfc-f1ba32f104fc",
   "metadata": {},
   "outputs": [],
   "source": [
    "Card = collections.namedtuple('Card', ['rank', 'suit'])  # 只有属性的简单类"
   ]
  },
  {
   "cell_type": "code",
   "execution_count": 33,
   "id": "6ebb2fec-c4d3-4c11-b3e6-3e7927ce85fa",
   "metadata": {},
   "outputs": [],
   "source": [
    "card = Card('7', 'heart')"
   ]
  },
  {
   "cell_type": "code",
   "execution_count": 34,
   "id": "902878c9-9abe-4267-a601-b1fa2be8b135",
   "metadata": {},
   "outputs": [
    {
     "data": {
      "text/plain": [
       "Card(rank='7', suit='heart')"
      ]
     },
     "execution_count": 34,
     "metadata": {},
     "output_type": "execute_result"
    }
   ],
   "source": [
    "card"
   ]
  },
  {
   "cell_type": "code",
   "execution_count": 35,
   "id": "db56c22e-bbfb-4b7e-bf8c-2e77f1e3ba5e",
   "metadata": {},
   "outputs": [],
   "source": [
    "class FrenchDeck():\n",
    "    ranks = [str(n) for n in range(2,11)] + list('JQKA')\n",
    "    suits = 'spades diamonds clubs hearts'.split()\n",
    "    \n",
    "    def __init__(self):\n",
    "        self._cards = [Card(rank, suit) for suit in self.suits\n",
    "                                        for rank in self.ranks]\n",
    "    \n",
    "    def __len__(self):\n",
    "        return len(self._cards)\n",
    "    \n",
    "    def __getitem__(self, position):\n",
    "        return self._cards[position]"
   ]
  },
  {
   "cell_type": "code",
   "execution_count": 36,
   "id": "530e10b6-a7ae-4c1a-bbd9-75b7b3e4c2f8",
   "metadata": {},
   "outputs": [],
   "source": [
    "deck = FrenchDeck()"
   ]
  },
  {
   "cell_type": "code",
   "execution_count": 37,
   "id": "b13abe8c-7723-4e3d-9915-3ed08484290a",
   "metadata": {},
   "outputs": [
    {
     "data": {
      "text/plain": [
       "52"
      ]
     },
     "execution_count": 37,
     "metadata": {},
     "output_type": "execute_result"
    }
   ],
   "source": [
    "len(deck)"
   ]
  },
  {
   "cell_type": "code",
   "execution_count": 38,
   "id": "b39a3f7c-9e6e-4947-8db7-7ee99c83b3bf",
   "metadata": {},
   "outputs": [
    {
     "data": {
      "text/plain": [
       "(Card(rank='2', suit='spades'), Card(rank='3', suit='spades'))"
      ]
     },
     "execution_count": 38,
     "metadata": {},
     "output_type": "execute_result"
    }
   ],
   "source": [
    "deck[0],deck[1]"
   ]
  },
  {
   "cell_type": "code",
   "execution_count": 39,
   "id": "1fcfdb2a-829f-4d58-b983-2fe8264636e9",
   "metadata": {},
   "outputs": [
    {
     "data": {
      "text/plain": [
       "Card(rank='A', suit='hearts')"
      ]
     },
     "execution_count": 39,
     "metadata": {},
     "output_type": "execute_result"
    }
   ],
   "source": [
    "deck[-1]"
   ]
  },
  {
   "cell_type": "code",
   "execution_count": 40,
   "id": "95d94f05-ae3c-424a-a79c-ef8a2f871cb2",
   "metadata": {},
   "outputs": [
    {
     "data": {
      "text/plain": [
       "Card(rank='3', suit='diamonds')"
      ]
     },
     "execution_count": 40,
     "metadata": {},
     "output_type": "execute_result"
    }
   ],
   "source": [
    "from random import choice\n",
    "choice(deck)   # 可以直接调用choice"
   ]
  },
  {
   "cell_type": "code",
   "execution_count": 41,
   "id": "8898e542-c36e-4a77-8784-2f0caf209618",
   "metadata": {},
   "outputs": [
    {
     "data": {
      "text/plain": [
       "Card(rank='2', suit='hearts')"
      ]
     },
     "execution_count": 41,
     "metadata": {},
     "output_type": "execute_result"
    }
   ],
   "source": [
    "choice(deck)"
   ]
  },
  {
   "cell_type": "markdown",
   "id": "8ce8b135-834c-4c43-b498-fe2ba4f46ef6",
   "metadata": {},
   "source": [
    "### 切片"
   ]
  },
  {
   "cell_type": "code",
   "execution_count": 42,
   "id": "734db3ed-cd91-415f-a268-fcc12aecadd1",
   "metadata": {},
   "outputs": [
    {
     "data": {
      "text/plain": [
       "[Card(rank='2', suit='spades'),\n",
       " Card(rank='3', suit='spades'),\n",
       " Card(rank='4', suit='spades')]"
      ]
     },
     "execution_count": 42,
     "metadata": {},
     "output_type": "execute_result"
    }
   ],
   "source": [
    "deck[:3]"
   ]
  },
  {
   "cell_type": "code",
   "execution_count": 44,
   "id": "9d5d55ca-9281-4089-b85e-01a79f93ad4c",
   "metadata": {},
   "outputs": [
    {
     "data": {
      "text/plain": [
       "[Card(rank='A', suit='spades'),\n",
       " Card(rank='A', suit='diamonds'),\n",
       " Card(rank='A', suit='clubs'),\n",
       " Card(rank='A', suit='hearts')]"
      ]
     },
     "execution_count": 44,
     "metadata": {},
     "output_type": "execute_result"
    }
   ],
   "source": [
    "deck[12::13]"
   ]
  },
  {
   "cell_type": "markdown",
   "id": "8ee2f259-20ce-4056-a2a7-0508424beceb",
   "metadata": {},
   "source": [
    "### 实现了__getitem__方法，就可以迭代"
   ]
  },
  {
   "cell_type": "code",
   "execution_count": 46,
   "id": "e9706802-3caf-4de5-9343-1e05feb50d9c",
   "metadata": {},
   "outputs": [
    {
     "name": "stdout",
     "output_type": "stream",
     "text": [
      "Card(rank='2', suit='spades')\n",
      "Card(rank='3', suit='spades')\n",
      "Card(rank='4', suit='spades')\n",
      "Card(rank='5', suit='spades')\n",
      "Card(rank='6', suit='spades')\n"
     ]
    }
   ],
   "source": [
    "for card in deck[:5]:\n",
    "    print(card)"
   ]
  },
  {
   "cell_type": "code",
   "execution_count": 47,
   "id": "d0331dce-2a3e-4e71-9646-4eb20a5bc617",
   "metadata": {},
   "outputs": [
    {
     "name": "stdout",
     "output_type": "stream",
     "text": [
      "Card(rank='6', suit='spades')\n",
      "Card(rank='5', suit='spades')\n",
      "Card(rank='4', suit='spades')\n",
      "Card(rank='3', suit='spades')\n",
      "Card(rank='2', suit='spades')\n"
     ]
    }
   ],
   "source": [
    "for card in reversed(deck[:5]):  # 反向迭代\n",
    "    print(card)"
   ]
  },
  {
   "cell_type": "markdown",
   "id": "04f9b4cc-67a5-426c-af02-bfcdac299c97",
   "metadata": {},
   "source": [
    "### in 运算符"
   ]
  },
  {
   "cell_type": "code",
   "execution_count": 48,
   "id": "7ba871fc-d2b0-4f96-a6ff-fb6ff1556ac0",
   "metadata": {},
   "outputs": [
    {
     "data": {
      "text/plain": [
       "True"
      ]
     },
     "execution_count": 48,
     "metadata": {},
     "output_type": "execute_result"
    }
   ],
   "source": [
    "Card('7', 'hearts') in deck"
   ]
  },
  {
   "cell_type": "code",
   "execution_count": 49,
   "id": "63813d0b-f1cf-4031-92d1-0e622bdd41cd",
   "metadata": {},
   "outputs": [
    {
     "data": {
      "text/plain": [
       "False"
      ]
     },
     "execution_count": 49,
     "metadata": {},
     "output_type": "execute_result"
    }
   ],
   "source": [
    "Card('7', 'bearts') in deck"
   ]
  },
  {
   "cell_type": "markdown",
   "id": "d83444d0-db98-41e0-99f0-c900332a34e8",
   "metadata": {},
   "source": [
    "### 排序"
   ]
  },
  {
   "cell_type": "code",
   "execution_count": 50,
   "id": "3f80a586-ca87-495b-84d7-3c41936c3b95",
   "metadata": {},
   "outputs": [
    {
     "data": {
      "text/plain": [
       "{'spades': 3, 'hearts': 2, 'diamonds': 1, 'clubs': 0}"
      ]
     },
     "execution_count": 50,
     "metadata": {},
     "output_type": "execute_result"
    }
   ],
   "source": [
    "suit_values = dict(spades=3, hearts=2, diamonds=1, clubs=0)\n",
    "suit_values"
   ]
  },
  {
   "cell_type": "code",
   "execution_count": 51,
   "id": "e673e4c0-2926-4600-888a-d2415889af69",
   "metadata": {},
   "outputs": [],
   "source": [
    "def spades_high(card):\n",
    "    rank_value = FrenchDeck.ranks.index(card.rank)\n",
    "    return rank_value * len(suit_values) + suit_values[card.suit]  # 2...A序号*4 + 花色"
   ]
  },
  {
   "cell_type": "code",
   "execution_count": 54,
   "id": "71dc5311-a8b7-45c8-ad19-5a55ea73ec4f",
   "metadata": {},
   "outputs": [
    {
     "name": "stdout",
     "output_type": "stream",
     "text": [
      "Card(rank='2', suit='clubs')\n",
      "Card(rank='2', suit='diamonds')\n",
      "Card(rank='2', suit='hearts')\n",
      "Card(rank='2', suit='spades')\n",
      "Card(rank='3', suit='clubs')\n",
      "Card(rank='3', suit='diamonds')\n",
      "Card(rank='3', suit='hearts')\n",
      "Card(rank='3', suit='spades')\n",
      "Card(rank='4', suit='clubs')\n",
      "Card(rank='4', suit='diamonds')\n"
     ]
    }
   ],
   "source": [
    "for card in sorted(deck, key=spades_high)[:10]:\n",
    "    print(card)"
   ]
  },
  {
   "cell_type": "markdown",
   "id": "3fe4b394-749f-4bdf-9817-26dd0a3d6924",
   "metadata": {},
   "source": [
    "通过实现 __len__和 __getitem__ 这两个特殊方法，FrenchDeck 就跟一个 Python 自有的序列数据类型一样，可以体现出 Python 的核心语言特性（例如迭代和切片）。同时这个类还可以用于标准库中诸如random.choice、reversed 和 sorted 这些函数。另外，对合成的运用使得 __len__ 和 __getitem__ 的具体实现\n",
    "可以代理给 self._cards这个 Python 列表（即 list对象）。"
   ]
  },
  {
   "cell_type": "markdown",
   "id": "534637c1-a15b-41f1-ae0c-2fbb6b47f9ad",
   "metadata": {},
   "source": [
    "在执行 len(my_object) 的时候，如果my_object 是一个自定义类的对象，那么 Python 会自己去调用其中由你实现的 __len__ 方法。"
   ]
  },
  {
   "cell_type": "markdown",
   "id": "1b1269a3-cb08-4751-be81-372a83a44c31",
   "metadata": {},
   "source": [
    "然而如果是 Python 内置的类型，比如列表（list）、字符串（str）、字节序列（bytearray）等，那么 CPython 会抄个近路，__len__ 实际上会直接返回 PyVarObject 里的 ob_size 属性。PyVarObject 是表示内存中长度可变的内置对象的 C 语言结构体。直接读取这个值比调用一个方法要快很多。"
   ]
  },
  {
   "cell_type": "code",
   "execution_count": null,
   "id": "e62bee7f-5a50-4593-bd11-05756d44e5b5",
   "metadata": {},
   "outputs": [],
   "source": []
  }
 ],
 "metadata": {
  "kernelspec": {
   "display_name": "Python 3 (ipykernel)",
   "language": "python",
   "name": "python3"
  },
  "language_info": {
   "codemirror_mode": {
    "name": "ipython",
    "version": 3
   },
   "file_extension": ".py",
   "mimetype": "text/x-python",
   "name": "python",
   "nbconvert_exporter": "python",
   "pygments_lexer": "ipython3",
   "version": "3.7.9"
  }
 },
 "nbformat": 4,
 "nbformat_minor": 5
}
