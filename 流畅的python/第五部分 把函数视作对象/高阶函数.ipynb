{
 "cells": [
  {
   "cell_type": "markdown",
   "id": "8df02ec9-871d-44ee-9208-4c9bdc252f95",
   "metadata": {},
   "source": [
    "## 读取函数doc属性"
   ]
  },
  {
   "cell_type": "code",
   "execution_count": 4,
   "id": "762cfdac-cc1f-4065-bf4e-bfad14466202",
   "metadata": {},
   "outputs": [],
   "source": [
    "def factorial(n):\n",
    "    \"\"\"doc 注释\"\"\"\n",
    "    return 1 if n<2 else n*factorial(n-1)\n"
   ]
  },
  {
   "cell_type": "code",
   "execution_count": 5,
   "id": "b1f6983e-d1c7-4385-9192-cc765eec402a",
   "metadata": {},
   "outputs": [
    {
     "data": {
      "text/plain": [
       "1405006117752879898543142606244511569936384000000000"
      ]
     },
     "execution_count": 5,
     "metadata": {},
     "output_type": "execute_result"
    }
   ],
   "source": [
    "factorial(42)"
   ]
  },
  {
   "cell_type": "code",
   "execution_count": 6,
   "id": "ef1fbb7d-6e15-4659-a13c-24f6facd7ff4",
   "metadata": {},
   "outputs": [
    {
     "data": {
      "text/plain": [
       "'doc 注释'"
      ]
     },
     "execution_count": 6,
     "metadata": {},
     "output_type": "execute_result"
    }
   ],
   "source": [
    "factorial.__doc__"
   ]
  },
  {
   "cell_type": "code",
   "execution_count": 7,
   "id": "d984dc72-96bb-4490-b832-f74a56c3091b",
   "metadata": {},
   "outputs": [
    {
     "data": {
      "text/plain": [
       "function"
      ]
     },
     "execution_count": 7,
     "metadata": {},
     "output_type": "execute_result"
    }
   ],
   "source": [
    "type(factorial)"
   ]
  },
  {
   "cell_type": "code",
   "execution_count": 8,
   "id": "d4f0c729-3a05-41e7-a301-a34f8db56244",
   "metadata": {},
   "outputs": [],
   "source": [
    "fact = factorial"
   ]
  },
  {
   "cell_type": "code",
   "execution_count": 9,
   "id": "cb79c520-b8d5-4cb8-b456-49c102ec2c87",
   "metadata": {},
   "outputs": [
    {
     "data": {
      "text/plain": [
       "<function __main__.factorial(n)>"
      ]
     },
     "execution_count": 9,
     "metadata": {},
     "output_type": "execute_result"
    }
   ],
   "source": [
    "fact"
   ]
  },
  {
   "cell_type": "code",
   "execution_count": 10,
   "id": "bea7ba0b-e852-48f5-92a9-cc7080cb4f7e",
   "metadata": {},
   "outputs": [
    {
     "data": {
      "text/plain": [
       "720"
      ]
     },
     "execution_count": 10,
     "metadata": {},
     "output_type": "execute_result"
    }
   ],
   "source": [
    "fact(6)"
   ]
  },
  {
   "cell_type": "code",
   "execution_count": 12,
   "id": "493fe5bb-f625-43f4-a9ad-fd2d50ff56bc",
   "metadata": {},
   "outputs": [],
   "source": [
    "a = map(fact, range(11))"
   ]
  },
  {
   "cell_type": "code",
   "execution_count": 13,
   "id": "5fcb176b-ad05-4b3b-adf0-72951e95ca6d",
   "metadata": {},
   "outputs": [
    {
     "data": {
      "text/plain": [
       "[1, 1, 2, 6, 24, 120, 720, 5040, 40320, 362880, 3628800]"
      ]
     },
     "execution_count": 13,
     "metadata": {},
     "output_type": "execute_result"
    }
   ],
   "source": [
    "list(a)"
   ]
  },
  {
   "cell_type": "markdown",
   "id": "5f84874b-d352-4779-811f-73fd856b8bdc",
   "metadata": {},
   "source": [
    "接受函数为参数，或者把函数作为结果返回的函数是高阶函数（higher- order function）。map 函数就是一例"
   ]
  },
  {
   "cell_type": "code",
   "execution_count": 16,
   "id": "d8bb564d-b221-44a9-9a09-250397f0ad6d",
   "metadata": {},
   "outputs": [],
   "source": [
    "fruits = ['strawberry', 'fig', 'apple', 'cherry', \n",
    "          'raspberry', 'banana']"
   ]
  },
  {
   "cell_type": "code",
   "execution_count": 20,
   "id": "5843409e-6896-435a-9755-74966cc824ca",
   "metadata": {},
   "outputs": [
    {
     "data": {
      "text/plain": [
       "['strawberry', 'raspberry', 'cherry', 'banana', 'apple', 'fig']"
      ]
     },
     "execution_count": 20,
     "metadata": {},
     "output_type": "execute_result"
    }
   ],
   "source": [
    "sorted(fruits, key=len, reverse=True)"
   ]
  },
  {
   "cell_type": "code",
   "execution_count": 21,
   "id": "ab4bbe94-79f0-4a5f-9d35-35f1d6bfb2f3",
   "metadata": {},
   "outputs": [
    {
     "data": {
      "text/plain": [
       "'gnirts'"
      ]
     },
     "execution_count": 21,
     "metadata": {},
     "output_type": "execute_result"
    }
   ],
   "source": [
    "def reverse(word):\n",
    "    return word[::-1]\n",
    "reverse('string')"
   ]
  },
  {
   "cell_type": "code",
   "execution_count": 22,
   "id": "f7dbf6bf-fbbd-46c9-8de7-b0ed155fbfd8",
   "metadata": {},
   "outputs": [
    {
     "data": {
      "text/plain": [
       "['banana', 'apple', 'fig', 'raspberry', 'strawberry', 'cherry']"
      ]
     },
     "execution_count": 22,
     "metadata": {},
     "output_type": "execute_result"
    }
   ],
   "source": [
    "sorted(fruits, key=reverse)"
   ]
  },
  {
   "cell_type": "markdown",
   "id": "f9b21d08-8cbe-467b-9ae1-815f88bcc935",
   "metadata": {},
   "source": [
    "## map、filter和reduce的现代替代品"
   ]
  },
  {
   "cell_type": "markdown",
   "id": "9dde7df2-1dfe-41ff-88e6-ee7f9f28c40f",
   "metadata": {},
   "source": [
    "在 Python 3 中，map 和 filter 还是内置函数，但 是由于引入了列表推导和生成器表达式，它们变得没那么重要了。列表 推导或生成器表达式具有 map 和 filter 两个函数的功能，而且更易于 阅读"
   ]
  },
  {
   "cell_type": "code",
   "execution_count": 23,
   "id": "d62bca9c-b72a-43ed-b827-248ba8fe0244",
   "metadata": {},
   "outputs": [
    {
     "data": {
      "text/plain": [
       "[1, 1, 2, 6, 24, 120, 720, 5040, 40320, 362880, 3628800]"
      ]
     },
     "execution_count": 23,
     "metadata": {},
     "output_type": "execute_result"
    }
   ],
   "source": [
    "list(map(fact, range(11)))"
   ]
  },
  {
   "cell_type": "code",
   "execution_count": 24,
   "id": "f3e39c9c-0332-40f5-a53d-765a80ddb081",
   "metadata": {},
   "outputs": [
    {
     "data": {
      "text/plain": [
       "[1, 1, 2, 6, 24, 120, 720, 5040, 40320, 362880, 3628800]"
      ]
     },
     "execution_count": 24,
     "metadata": {},
     "output_type": "execute_result"
    }
   ],
   "source": [
    "[fact(n) for n in range(11)]"
   ]
  },
  {
   "cell_type": "code",
   "execution_count": 25,
   "id": "533cf577-c56c-4f4a-bd29-83f6be6752e5",
   "metadata": {},
   "outputs": [
    {
     "data": {
      "text/plain": [
       "[1, 6, 120, 5040, 362880]"
      ]
     },
     "execution_count": 25,
     "metadata": {},
     "output_type": "execute_result"
    }
   ],
   "source": [
    "list(map(fact, filter(lambda n:n%2, range(11))))"
   ]
  },
  {
   "cell_type": "code",
   "execution_count": 26,
   "id": "1be1cad1-554d-4bde-9ff7-263d8cff2e9f",
   "metadata": {},
   "outputs": [
    {
     "data": {
      "text/plain": [
       "[1, 6, 120, 5040, 362880]"
      ]
     },
     "execution_count": 26,
     "metadata": {},
     "output_type": "execute_result"
    }
   ],
   "source": [
    "[fact(n) for n in range(11) if n%2]"
   ]
  },
  {
   "cell_type": "code",
   "execution_count": 27,
   "id": "07cb5ebb-1ed6-4099-9b83-0ff5c753553d",
   "metadata": {},
   "outputs": [
    {
     "data": {
      "text/plain": [
       "4950"
      ]
     },
     "execution_count": 27,
     "metadata": {},
     "output_type": "execute_result"
    }
   ],
   "source": [
    "from functools import reduce\n",
    "from operator import add\n",
    "reduce(add, range(100))"
   ]
  },
  {
   "cell_type": "code",
   "execution_count": 28,
   "id": "1f5643ca-9a33-461d-b554-02e41490e5f3",
   "metadata": {},
   "outputs": [
    {
     "data": {
      "text/plain": [
       "4950"
      ]
     },
     "execution_count": 28,
     "metadata": {},
     "output_type": "execute_result"
    }
   ],
   "source": [
    "sum(range(100))"
   ]
  },
  {
   "cell_type": "markdown",
   "id": "a6237c5a-30e3-42d7-a860-bdd8758f27f4",
   "metadata": {},
   "source": [
    "在 Python 3 中，map 和 filter 返回生成器（一种迭代器），因此现在 它们的直接替代品是生成器表达式（在 Python 2 中，这两个函数返回列 表，因此最接近的替代品是列表推导）"
   ]
  },
  {
   "cell_type": "markdown",
   "id": "e5fe1b28-2242-4469-b290-27abaf54c5eb",
   "metadata": {},
   "source": [
    "sum 和 reduce 的通用思想是把某个操作连续应用到序列的元素上，累 计之前的结果，把一系列值归约成一个值。"
   ]
  },
  {
   "cell_type": "markdown",
   "id": "954b5fa0-51ca-42cf-a379-64c5e3119bf6",
   "metadata": {},
   "source": [
    "all 和 any 也是内置的归约函数"
   ]
  },
  {
   "cell_type": "markdown",
   "id": "d863cfb0-82ed-46f6-a440-fd1b50c1cd2e",
   "metadata": {},
   "source": [
    "all(iterable) 如果 iterable 的每个元素都是真值，返回 True；all([]) 返回 True。 any(iterable) 只要 iterable 中有元素是真值，就返回 True；any([]) 返回 False。"
   ]
  },
  {
   "cell_type": "code",
   "execution_count": 30,
   "id": "02107e78-46a3-4c86-b3ef-4a8a4523aa2c",
   "metadata": {},
   "outputs": [
    {
     "data": {
      "text/plain": [
       "True"
      ]
     },
     "execution_count": 30,
     "metadata": {},
     "output_type": "execute_result"
    }
   ],
   "source": [
    "all([1,32423,2435])"
   ]
  },
  {
   "cell_type": "code",
   "execution_count": null,
   "id": "66440f90-1d6b-437b-a092-710f2433610c",
   "metadata": {},
   "outputs": [],
   "source": []
  }
 ],
 "metadata": {
  "kernelspec": {
   "display_name": "Python 3 (ipykernel)",
   "language": "python",
   "name": "python3"
  },
  "language_info": {
   "codemirror_mode": {
    "name": "ipython",
    "version": 3
   },
   "file_extension": ".py",
   "mimetype": "text/x-python",
   "name": "python",
   "nbconvert_exporter": "python",
   "pygments_lexer": "ipython3",
   "version": "3.7.9"
  }
 },
 "nbformat": 4,
 "nbformat_minor": 5
}
