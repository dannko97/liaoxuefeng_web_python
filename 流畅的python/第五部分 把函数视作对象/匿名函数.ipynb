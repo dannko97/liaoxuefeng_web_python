{
 "cells": [
  {
   "cell_type": "markdown",
   "id": "3d259ea4-e505-4776-b754-928eeec087a3",
   "metadata": {},
   "source": [
    "Python 简单的句法限制了 lambda 函数的定义体只能使用纯表达 式。换句话说，lambda 函数的定义体中不能赋值，也不能使用 while 和 try 等 Python 语句"
   ]
  },
  {
   "cell_type": "markdown",
   "id": "a680faf2-1724-4d95-8e97-918b64bbc20d",
   "metadata": {},
   "source": [
    "Lundh 提出的 lambda 表达式重构秘笈 如果使用 lambda 表达式导致一段代码难以理解，Fredrik Lundh 建 议像下面这样重构。 (1) 编写注释，说明 lambda 表达式的作用。 (2) 研究一会儿注释，并找出一个名称来概括注释。 (3) 把 lambda 表达式转换成 def 语句，使用那个名称来定义函 数。(4) 删除注释。\n"
   ]
  },
  {
   "cell_type": "code",
   "execution_count": 9,
   "id": "ec1cfc1a-c973-4654-aaff-726b7e2e325b",
   "metadata": {},
   "outputs": [
    {
     "data": {
      "text/plain": [
       "[True, True, False]"
      ]
     },
     "execution_count": 9,
     "metadata": {},
     "output_type": "execute_result"
    }
   ],
   "source": [
    "#如果想判断对象能否调用，可以使用内置的 callable() 函数。\n",
    "callable(dict) \n",
    "[callable(obj) for obj in (abs, str, 13)]"
   ]
  },
  {
   "cell_type": "markdown",
   "id": "9a0f6bff-1b34-4c1e-9bb2-423ab510205f",
   "metadata": {},
   "source": [
    "## 可调用对象"
   ]
  },
  {
   "cell_type": "markdown",
   "id": "c0df77b0-14f4-4b66-94ab-5c9a81041070",
   "metadata": {},
   "source": [
    "Python 数据模型文档列出了 7 种可调用对象。 "
   ]
  },
  {
   "cell_type": "markdown",
   "id": "4f751e65-d243-4bbe-ba7c-76f815bbefa0",
   "metadata": {},
   "source": [
    "用户定义的函数 使用 def 语句或 lambda 表达式创建。"
   ]
  },
  {
   "cell_type": "markdown",
   "id": "8749dc7e-bca1-4ea4-8fc0-df21934e9aa7",
   "metadata": {},
   "source": [
    "内置函数使用 C 语言（CPython）实现的函数，如 len 或 time.strftime。"
   ]
  },
  {
   "cell_type": "markdown",
   "id": "8589e475-0dad-428a-9cb5-1619b2c58fe9",
   "metadata": {},
   "source": [
    "内置方法  使用 C 语言实现的方法，如 dict.get。<br>\n",
    "方法在类的定义体中定义的函数。<br>\n",
    "类调用类时会运行类的 __new__ 方法创建一个实例，然后运行 __init__ 方法，初始化实例，最后把实例返回给调用方。因为 Python 没有 new 运算符，所以调用类相当于调用函数。<br>\n",
    "类的实例如果类定义了 __call__ 方法，那么它的实例可以作为函数调用<br>\n",
    "生成器函数\n",
    "使用 yield 关键字的函数或方法。调用生成器函数返回的是生成 器对象。<br>"
   ]
  },
  {
   "cell_type": "code",
   "execution_count": null,
   "id": "26687fb5-0929-43d8-a5ae-038aaf9a06b4",
   "metadata": {},
   "outputs": [],
   "source": []
  }
 ],
 "metadata": {
  "kernelspec": {
   "display_name": "Python 3 (ipykernel)",
   "language": "python",
   "name": "python3"
  },
  "language_info": {
   "codemirror_mode": {
    "name": "ipython",
    "version": 3
   },
   "file_extension": ".py",
   "mimetype": "text/x-python",
   "name": "python",
   "nbconvert_exporter": "python",
   "pygments_lexer": "ipython3",
   "version": "3.7.9"
  }
 },
 "nbformat": 4,
 "nbformat_minor": 5
}
