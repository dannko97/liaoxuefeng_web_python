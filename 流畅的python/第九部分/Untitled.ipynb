{
 "cells": [
  {
   "cell_type": "markdown",
   "id": "8ec95ad2-d4f1-45d8-81f1-759359e49200",
   "metadata": {},
   "source": [
    "在 Python 3 中，__repr__、__str__ 和 __format__ 都必须返回 Unicode 字 符串（str 类型）。只有 __bytes__ 方法应该返回字节序列 （bytes 类型）。·"
   ]
  },
  {
   "cell_type": "code",
   "execution_count": 2,
   "id": "3dd0e13c-6ee2-4abe-93fd-d53b5243955b",
   "metadata": {},
   "outputs": [
    {
     "data": {
      "text/plain": [
       "'101010'"
      ]
     },
     "execution_count": 2,
     "metadata": {},
     "output_type": "execute_result"
    }
   ],
   "source": [
    "f'{42:b}'"
   ]
  },
  {
   "cell_type": "code",
   "execution_count": 4,
   "id": "af16a3d3-3c94-4cd6-a33f-432079b2a18e",
   "metadata": {},
   "outputs": [
    {
     "data": {
      "text/plain": [
       "'66.7%'"
      ]
     },
     "execution_count": 4,
     "metadata": {},
     "output_type": "execute_result"
    }
   ],
   "source": [
    "f'{2/3:.1%}'"
   ]
  },
  {
   "cell_type": "code",
   "execution_count": 5,
   "id": "eb6ea842-2a0d-42c6-aef6-af7d1befba70",
   "metadata": {},
   "outputs": [],
   "source": [
    "from datetime import datetime"
   ]
  },
  {
   "cell_type": "code",
   "execution_count": 6,
   "id": "88078616-a694-46f3-ba2d-79b001435e2d",
   "metadata": {},
   "outputs": [],
   "source": [
    "now = datetime.now()"
   ]
  },
  {
   "cell_type": "code",
   "execution_count": 7,
   "id": "8812fbb8-4a19-4c2a-a091-92ba8b4e5740",
   "metadata": {},
   "outputs": [
    {
     "data": {
      "text/plain": [
       "datetime.datetime(2021, 10, 6, 10, 41, 2, 27065)"
      ]
     },
     "execution_count": 7,
     "metadata": {},
     "output_type": "execute_result"
    }
   ],
   "source": [
    "now"
   ]
  },
  {
   "cell_type": "code",
   "execution_count": 10,
   "id": "d281974b-e576-42f7-82c5-fb4134b8f87d",
   "metadata": {},
   "outputs": [
    {
     "data": {
      "text/plain": [
       "'10:41:02'"
      ]
     },
     "execution_count": 10,
     "metadata": {},
     "output_type": "execute_result"
    }
   ],
   "source": [
    "f'{now:%H:%M:%S}'"
   ]
  },
  {
   "cell_type": "code",
   "execution_count": 12,
   "id": "2cdaae46-b211-4400-933d-24f8ce7baf92",
   "metadata": {},
   "outputs": [
    {
     "data": {
      "text/plain": [
       "'10:41:AM'"
      ]
     },
     "execution_count": 12,
     "metadata": {},
     "output_type": "execute_result"
    }
   ],
   "source": [
    "f'{now:%I:%M:%p}'"
   ]
  },
  {
   "cell_type": "code",
   "execution_count": null,
   "id": "6d6e669d-aa97-4ed8-801f-8b4243108e2c",
   "metadata": {},
   "outputs": [],
   "source": []
  }
 ],
 "metadata": {
  "kernelspec": {
   "display_name": "Python 3 (ipykernel)",
   "language": "python",
   "name": "python3"
  },
  "language_info": {
   "codemirror_mode": {
    "name": "ipython",
    "version": 3
   },
   "file_extension": ".py",
   "mimetype": "text/x-python",
   "name": "python",
   "nbconvert_exporter": "python",
   "pygments_lexer": "ipython3",
   "version": "3.7.9"
  }
 },
 "nbformat": 4,
 "nbformat_minor": 5
}
